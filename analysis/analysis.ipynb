{
 "cells": [
  {
   "cell_type": "markdown",
   "metadata": {},
   "source": [
    "# Subreddit Analysis\n",
    "\n",
    "NLP-base analysis of different Reddit boards\n",
    "\n",
    "## Imports"
   ]
  },
  {
   "cell_type": "code",
   "execution_count": 45,
   "metadata": {},
   "outputs": [],
   "source": [
    "from os import environ as ENV, _Environ\n",
    "from dotenv import load_dotenv\n",
    "from psycopg2 import connect\n",
    "from psycopg2.extras import RealDictCursor\n",
    "from psycopg2.extensions import connection\n",
    "import pandas as pd\n",
    "import seaborn as sns\n",
    "from nltk.sentiment.vader import SentimentIntensityAnalyzer"
   ]
  },
  {
   "cell_type": "code",
   "execution_count": 46,
   "metadata": {},
   "outputs": [],
   "source": [
    "load_dotenv()\n",
    "\n",
    "\n",
    "def get_connection(config: _Environ) -> connection:\n",
    "    \"\"\"Returns a live DB connection.\"\"\"\n",
    "    return connect(\n",
    "        host=config[\"DB_HOST\"],\n",
    "        user=config[\"DB_USER\"],\n",
    "        dbname=config[\"DB_NAME\"],\n",
    "        port=config[\"DB_PORT\"],\n",
    "        password=config[\"DB_PASSWORD\"],\n",
    "        cursor_factory=RealDictCursor\n",
    "    )\n",
    "\n",
    "\n",
    "conn = get_connection(ENV)"
   ]
  },
  {
   "cell_type": "code",
   "execution_count": 47,
   "metadata": {},
   "outputs": [],
   "source": [
    "q = \"\"\"\n",
    "SELECT P.post_title, P.post_text, S.subreddit_name\n",
    "FROM post AS P\n",
    "LEFT JOIN subreddit AS S\n",
    "USING (subreddit_id);\n",
    "\"\"\"\n",
    "with conn.cursor() as cur:\n",
    "    cur.execute(q)\n",
    "    data = cur.fetchall()\n",
    "posts = pd.DataFrame(data)\n",
    "pd.set_option('display.max_colwidth', 100)"
   ]
  },
  {
   "cell_type": "code",
   "execution_count": 48,
   "metadata": {},
   "outputs": [
    {
     "data": {
      "text/html": [
       "<div>\n",
       "<style scoped>\n",
       "    .dataframe tbody tr th:only-of-type {\n",
       "        vertical-align: middle;\n",
       "    }\n",
       "\n",
       "    .dataframe tbody tr th {\n",
       "        vertical-align: top;\n",
       "    }\n",
       "\n",
       "    .dataframe thead th {\n",
       "        text-align: right;\n",
       "    }\n",
       "</style>\n",
       "<table border=\"1\" class=\"dataframe\">\n",
       "  <thead>\n",
       "    <tr style=\"text-align: right;\">\n",
       "      <th></th>\n",
       "      <th>post_title</th>\n",
       "      <th>post_text</th>\n",
       "      <th>subreddit_name</th>\n",
       "    </tr>\n",
       "  </thead>\n",
       "  <tbody>\n",
       "    <tr>\n",
       "      <th>0</th>\n",
       "      <td>r/AITAH Lounge</td>\n",
       "      <td>A place for members of r/AITAH to chat with each other</td>\n",
       "      <td>AITAH</td>\n",
       "    </tr>\n",
       "    <tr>\n",
       "      <th>1</th>\n",
       "      <td>AITA for Telling My Wife I Want Separate Bank Accounts After She Spent All Our Savings on a Vaca...</td>\n",
       "      <td>My wife, Emma (32F), recently surprised me (34M) with a dream vacation. At first, I was excited,...</td>\n",
       "      <td>AITAH</td>\n",
       "    </tr>\n",
       "    <tr>\n",
       "      <th>2</th>\n",
       "      <td>AITAH for not wanting to marry any men because I don't want to risk my job security?\\n\\n</td>\n",
       "      <td>AITAH for not wanting to marry any men because I don't want to risk my job security?\\n\\nI (30F) ...</td>\n",
       "      <td>AITAH</td>\n",
       "    </tr>\n",
       "    <tr>\n",
       "      <th>3</th>\n",
       "      <td>WIBTA if I broke up with my fiancé so he could be happier with my sister?</td>\n",
       "      <td>I (25F) have been engaged to my fiancé (28M) for about a month now. He’s honestly amazing! He's ...</td>\n",
       "      <td>AITAH</td>\n",
       "    </tr>\n",
       "    <tr>\n",
       "      <th>4</th>\n",
       "      <td>AITAH for Hiding My Pregnancy From My Husband and My MIL</td>\n",
       "      <td>I (25F) have been married to my husband (28M) for 3 years. \\n\\nMy husband, I will call him Joel,...</td>\n",
       "      <td>AITAH</td>\n",
       "    </tr>\n",
       "  </tbody>\n",
       "</table>\n",
       "</div>"
      ],
      "text/plain": [
       "                                                                                            post_title  \\\n",
       "0                                                                                       r/AITAH Lounge   \n",
       "1  AITA for Telling My Wife I Want Separate Bank Accounts After She Spent All Our Savings on a Vaca...   \n",
       "2             AITAH for not wanting to marry any men because I don't want to risk my job security?\\n\\n   \n",
       "3                            WIBTA if I broke up with my fiancé so he could be happier with my sister?   \n",
       "4                                             AITAH for Hiding My Pregnancy From My Husband and My MIL   \n",
       "\n",
       "                                                                                             post_text  \\\n",
       "0                                               A place for members of r/AITAH to chat with each other   \n",
       "1  My wife, Emma (32F), recently surprised me (34M) with a dream vacation. At first, I was excited,...   \n",
       "2  AITAH for not wanting to marry any men because I don't want to risk my job security?\\n\\nI (30F) ...   \n",
       "3  I (25F) have been engaged to my fiancé (28M) for about a month now. He’s honestly amazing! He's ...   \n",
       "4  I (25F) have been married to my husband (28M) for 3 years. \\n\\nMy husband, I will call him Joel,...   \n",
       "\n",
       "  subreddit_name  \n",
       "0          AITAH  \n",
       "1          AITAH  \n",
       "2          AITAH  \n",
       "3          AITAH  \n",
       "4          AITAH  "
      ]
     },
     "execution_count": 48,
     "metadata": {},
     "output_type": "execute_result"
    }
   ],
   "source": [
    "posts.head()"
   ]
  },
  {
   "cell_type": "code",
   "execution_count": 49,
   "metadata": {},
   "outputs": [
    {
     "data": {
      "text/html": [
       "<div>\n",
       "<style scoped>\n",
       "    .dataframe tbody tr th:only-of-type {\n",
       "        vertical-align: middle;\n",
       "    }\n",
       "\n",
       "    .dataframe tbody tr th {\n",
       "        vertical-align: top;\n",
       "    }\n",
       "\n",
       "    .dataframe thead th {\n",
       "        text-align: right;\n",
       "    }\n",
       "</style>\n",
       "<table border=\"1\" class=\"dataframe\">\n",
       "  <thead>\n",
       "    <tr style=\"text-align: right;\">\n",
       "      <th></th>\n",
       "      <th>post_title</th>\n",
       "      <th>post_text</th>\n",
       "    </tr>\n",
       "    <tr>\n",
       "      <th>subreddit_name</th>\n",
       "      <th></th>\n",
       "      <th></th>\n",
       "    </tr>\n",
       "  </thead>\n",
       "  <tbody>\n",
       "    <tr>\n",
       "      <th>AITAH</th>\n",
       "      <td>26</td>\n",
       "      <td>26</td>\n",
       "    </tr>\n",
       "    <tr>\n",
       "      <th>askreddit</th>\n",
       "      <td>75</td>\n",
       "      <td>75</td>\n",
       "    </tr>\n",
       "    <tr>\n",
       "      <th>politics</th>\n",
       "      <td>27</td>\n",
       "      <td>27</td>\n",
       "    </tr>\n",
       "  </tbody>\n",
       "</table>\n",
       "</div>"
      ],
      "text/plain": [
       "                post_title  post_text\n",
       "subreddit_name                       \n",
       "AITAH                   26         26\n",
       "askreddit               75         75\n",
       "politics                27         27"
      ]
     },
     "execution_count": 49,
     "metadata": {},
     "output_type": "execute_result"
    }
   ],
   "source": [
    "posts.groupby('subreddit_name').count()"
   ]
  },
  {
   "cell_type": "code",
   "execution_count": 50,
   "metadata": {},
   "outputs": [],
   "source": [
    "vader = SentimentIntensityAnalyzer()"
   ]
  },
  {
   "cell_type": "code",
   "execution_count": 51,
   "metadata": {},
   "outputs": [
    {
     "data": {
      "text/html": [
       "<div>\n",
       "<style scoped>\n",
       "    .dataframe tbody tr th:only-of-type {\n",
       "        vertical-align: middle;\n",
       "    }\n",
       "\n",
       "    .dataframe tbody tr th {\n",
       "        vertical-align: top;\n",
       "    }\n",
       "\n",
       "    .dataframe thead th {\n",
       "        text-align: right;\n",
       "    }\n",
       "</style>\n",
       "<table border=\"1\" class=\"dataframe\">\n",
       "  <thead>\n",
       "    <tr style=\"text-align: right;\">\n",
       "      <th></th>\n",
       "      <th>post_title</th>\n",
       "      <th>post_text</th>\n",
       "      <th>subreddit_name</th>\n",
       "      <th>text_sentiment</th>\n",
       "      <th>title_sentiment</th>\n",
       "    </tr>\n",
       "  </thead>\n",
       "  <tbody>\n",
       "    <tr>\n",
       "      <th>0</th>\n",
       "      <td>r/AITAH Lounge</td>\n",
       "      <td>A place for members of r/AITAH to chat with each other</td>\n",
       "      <td>AITAH</td>\n",
       "      <td>0.0000</td>\n",
       "      <td>0.0000</td>\n",
       "    </tr>\n",
       "    <tr>\n",
       "      <th>1</th>\n",
       "      <td>AITA for Telling My Wife I Want Separate Bank Accounts After She Spent All Our Savings on a Vaca...</td>\n",
       "      <td>My wife, Emma (32F), recently surprised me (34M) with a dream vacation. At first, I was excited,...</td>\n",
       "      <td>AITAH</td>\n",
       "      <td>0.8519</td>\n",
       "      <td>0.0772</td>\n",
       "    </tr>\n",
       "    <tr>\n",
       "      <th>2</th>\n",
       "      <td>AITAH for not wanting to marry any men because I don't want to risk my job security?\\n\\n</td>\n",
       "      <td>AITAH for not wanting to marry any men because I don't want to risk my job security?\\n\\nI (30F) ...</td>\n",
       "      <td>AITAH</td>\n",
       "      <td>0.9922</td>\n",
       "      <td>0.4574</td>\n",
       "    </tr>\n",
       "    <tr>\n",
       "      <th>3</th>\n",
       "      <td>WIBTA if I broke up with my fiancé so he could be happier with my sister?</td>\n",
       "      <td>I (25F) have been engaged to my fiancé (28M) for about a month now. He’s honestly amazing! He's ...</td>\n",
       "      <td>AITAH</td>\n",
       "      <td>0.9993</td>\n",
       "      <td>0.1531</td>\n",
       "    </tr>\n",
       "    <tr>\n",
       "      <th>4</th>\n",
       "      <td>AITAH for Hiding My Pregnancy From My Husband and My MIL</td>\n",
       "      <td>I (25F) have been married to my husband (28M) for 3 years. \\n\\nMy husband, I will call him Joel,...</td>\n",
       "      <td>AITAH</td>\n",
       "      <td>0.2522</td>\n",
       "      <td>-0.2960</td>\n",
       "    </tr>\n",
       "    <tr>\n",
       "      <th>...</th>\n",
       "      <td>...</td>\n",
       "      <td>...</td>\n",
       "      <td>...</td>\n",
       "      <td>...</td>\n",
       "      <td>...</td>\n",
       "    </tr>\n",
       "    <tr>\n",
       "      <th>123</th>\n",
       "      <td>What is the best way to achieved your goals in life?</td>\n",
       "      <td></td>\n",
       "      <td>askreddit</td>\n",
       "      <td>0.0000</td>\n",
       "      <td>0.6369</td>\n",
       "    </tr>\n",
       "    <tr>\n",
       "      <th>124</th>\n",
       "      <td>what is the funniest thing you have overheard in public?</td>\n",
       "      <td></td>\n",
       "      <td>askreddit</td>\n",
       "      <td>0.0000</td>\n",
       "      <td>0.5574</td>\n",
       "    </tr>\n",
       "    <tr>\n",
       "      <th>125</th>\n",
       "      <td>What's that one thing you were fine with, but the world taught you to be embarrassed about?</td>\n",
       "      <td></td>\n",
       "      <td>askreddit</td>\n",
       "      <td>0.0000</td>\n",
       "      <td>-0.4310</td>\n",
       "    </tr>\n",
       "    <tr>\n",
       "      <th>126</th>\n",
       "      <td>What the reason you woke up today?</td>\n",
       "      <td></td>\n",
       "      <td>askreddit</td>\n",
       "      <td>0.0000</td>\n",
       "      <td>0.0000</td>\n",
       "    </tr>\n",
       "    <tr>\n",
       "      <th>127</th>\n",
       "      <td>What’s something that you’ll never throw away?</td>\n",
       "      <td></td>\n",
       "      <td>askreddit</td>\n",
       "      <td>0.0000</td>\n",
       "      <td>0.0000</td>\n",
       "    </tr>\n",
       "  </tbody>\n",
       "</table>\n",
       "<p>128 rows × 5 columns</p>\n",
       "</div>"
      ],
      "text/plain": [
       "                                                                                              post_title  \\\n",
       "0                                                                                         r/AITAH Lounge   \n",
       "1    AITA for Telling My Wife I Want Separate Bank Accounts After She Spent All Our Savings on a Vaca...   \n",
       "2               AITAH for not wanting to marry any men because I don't want to risk my job security?\\n\\n   \n",
       "3                              WIBTA if I broke up with my fiancé so he could be happier with my sister?   \n",
       "4                                               AITAH for Hiding My Pregnancy From My Husband and My MIL   \n",
       "..                                                                                                   ...   \n",
       "123                                                 What is the best way to achieved your goals in life?   \n",
       "124                                             what is the funniest thing you have overheard in public?   \n",
       "125          What's that one thing you were fine with, but the world taught you to be embarrassed about?   \n",
       "126                                                                  What the reason you woke up today?    \n",
       "127                                                       What’s something that you’ll never throw away?   \n",
       "\n",
       "                                                                                               post_text  \\\n",
       "0                                                 A place for members of r/AITAH to chat with each other   \n",
       "1    My wife, Emma (32F), recently surprised me (34M) with a dream vacation. At first, I was excited,...   \n",
       "2    AITAH for not wanting to marry any men because I don't want to risk my job security?\\n\\nI (30F) ...   \n",
       "3    I (25F) have been engaged to my fiancé (28M) for about a month now. He’s honestly amazing! He's ...   \n",
       "4    I (25F) have been married to my husband (28M) for 3 years. \\n\\nMy husband, I will call him Joel,...   \n",
       "..                                                                                                   ...   \n",
       "123                                                                                                        \n",
       "124                                                                                                        \n",
       "125                                                                                                        \n",
       "126                                                                                                        \n",
       "127                                                                                                        \n",
       "\n",
       "    subreddit_name  text_sentiment  title_sentiment  \n",
       "0            AITAH          0.0000           0.0000  \n",
       "1            AITAH          0.8519           0.0772  \n",
       "2            AITAH          0.9922           0.4574  \n",
       "3            AITAH          0.9993           0.1531  \n",
       "4            AITAH          0.2522          -0.2960  \n",
       "..             ...             ...              ...  \n",
       "123      askreddit          0.0000           0.6369  \n",
       "124      askreddit          0.0000           0.5574  \n",
       "125      askreddit          0.0000          -0.4310  \n",
       "126      askreddit          0.0000           0.0000  \n",
       "127      askreddit          0.0000           0.0000  \n",
       "\n",
       "[128 rows x 5 columns]"
      ]
     },
     "execution_count": 51,
     "metadata": {},
     "output_type": "execute_result"
    }
   ],
   "source": [
    "posts['text_sentiment'] = posts['post_text'].apply(lambda x: vader.polarity_scores(x)['compound'])\n",
    "posts['title_sentiment'] = posts['post_title'].apply(lambda x: vader.polarity_scores(x)['compound'])\n",
    "posts"
   ]
  },
  {
   "cell_type": "code",
   "execution_count": 52,
   "metadata": {},
   "outputs": [],
   "source": [
    "def categorise_sentiment(score:float) -> str:\n",
    "    if score> 0.5:\n",
    "        return 'positive'\n",
    "    elif score < -0.5:\n",
    "        return 'negative'\n",
    "    else:\n",
    "        return 'neutral'\n",
    "\n",
    "posts['text_sentiment_category'] = posts['text_sentiment'].apply(categorise_sentiment)\n",
    "posts['title_sentiment_category'] = posts['title_sentiment'].apply(\n",
    "    categorise_sentiment)"
   ]
  },
  {
   "cell_type": "code",
   "execution_count": 53,
   "metadata": {},
   "outputs": [
    {
     "name": "stderr",
     "output_type": "stream",
     "text": [
      "/var/folders/g5/5x7wynhn6cb4twgcty_zbdtm0000gp/T/ipykernel_32621/2439520211.py:1: UserWarning: \n",
      "\n",
      "`distplot` is a deprecated function and will be removed in seaborn v0.14.0.\n",
      "\n",
      "Please adapt your code to use either `displot` (a figure-level function with\n",
      "similar flexibility) or `histplot` (an axes-level function for histograms).\n",
      "\n",
      "For a guide to updating your code to use the new functions, please see\n",
      "https://gist.github.com/mwaskom/de44147ed2974457ad6372750bbe5751\n",
      "\n",
      "  sns.distplot(posts['text_sentiment'])\n"
     ]
    },
    {
     "data": {
      "text/plain": [
       "<Axes: xlabel='text_sentiment', ylabel='Density'>"
      ]
     },
     "execution_count": 53,
     "metadata": {},
     "output_type": "execute_result"
    },
    {
     "data": {
      "image/png": "[encoded data removed]",
      "text/plain": [
       "<Figure size 640x480 with 1 Axes>"
      ]
     },
     "metadata": {},
     "output_type": "display_data"
    }
   ],
   "source": [
    "sns.distplot(posts['text_sentiment'])"
   ]
  },
  {
   "cell_type": "code",
   "execution_count": 54,
   "metadata": {},
   "outputs": [
    {
     "name": "stdout",
     "output_type": "stream",
     "text": [
      "title_sentiment_category\n",
      "neutral     98\n",
      "negative    18\n",
      "positive    12\n",
      "Name: count, dtype: int64\n"
     ]
    },
    {
     "data": {
      "text/plain": [
       "text_sentiment_category\n",
       "neutral     106\n",
       "positive     11\n",
       "negative     11\n",
       "Name: count, dtype: int64"
      ]
     },
     "execution_count": 54,
     "metadata": {},
     "output_type": "execute_result"
    }
   ],
   "source": [
    "print(posts['title_sentiment_category'].value_counts())\n",
    "posts['text_sentiment_category'].value_counts()"
   ]
  },
  {
   "cell_type": "code",
   "execution_count": 55,
   "metadata": {},
   "outputs": [
    {
     "data": {
      "text/plain": [
       "17     Update 2: AITA for telling my dad's ex that she could have been my mom if she didn't cheat on my...\n",
       "100                                                   What is the best way to achieved your goals in life?\n",
       "49                                      Billie Eilish endorses Harris: ‘Vote like your life depends on it’\n",
       "77                                  Which do you consider to be the best video games of the last 10 years?\n",
       "25                                                                      What is your secret to happiness? \n",
       "                                                      ...                                                 \n",
       "103                                           what's something that's hated on way more than it should be?\n",
       "43                                              Judge Aileen Cannon Failed to Disclose a Right-Wing Junket\n",
       "41                   Trump is a threat to democracy. That's not rhetoric, it's verifiable fact | Editorial\n",
       "36     Judge Who Tossed Trump’s Docs Case Repeatedly Violated Disclosure Rule: Report | Florida Judge A...\n",
       "18          I was stopped by the cops and my husband left me there alone. AITAH for being upset he left ? \n",
       "Name: post_title, Length: 128, dtype: object"
      ]
     },
     "execution_count": 55,
     "metadata": {},
     "output_type": "execute_result"
    }
   ],
   "source": [
    "posts.sort_values('title_sentiment_category',ascending=False)['post_title']"
   ]
  },
  {
   "cell_type": "code",
   "execution_count": 57,
   "metadata": {},
   "outputs": [
    {
     "data": {
      "text/plain": [
       "title_sentiment_category\n",
       "neutral     5\n",
       "negative    4\n",
       "positive    1\n",
       "Name: count, dtype: int64"
      ]
     },
     "execution_count": 57,
     "metadata": {},
     "output_type": "execute_result"
    }
   ],
   "source": [
    "posts[posts['post_title'].str.lower().str.contains('trump')]['title_sentiment_category'].value_counts()"
   ]
  }
 ],
 "metadata": {
  "kernelspec": {
   "display_name": "Python 3",
   "language": "python",
   "name": "python3"
  },
  "language_info": {
   "codemirror_mode": {
    "name": "ipython",
    "version": 3
   },
   "file_extension": ".py",
   "mimetype": "text/x-python",
   "name": "python",
   "nbconvert_exporter": "python",
   "pygments_lexer": "ipython3",
   "version": "3.12.6"
  }
 },
 "nbformat": 4,
 "nbformat_minor": 2
}
